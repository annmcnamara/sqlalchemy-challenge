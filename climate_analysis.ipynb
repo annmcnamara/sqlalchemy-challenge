{
 "cells": [
  {
   "cell_type": "markdown",
   "metadata": {},
   "source": [
    "# Climate Analysis "
   ]
  },
  {
   "cell_type": "code",
   "execution_count": 1,
   "metadata": {},
   "outputs": [],
   "source": [
    "## Import any Dependancies \n",
    "%matplotlib inline\n",
    "from matplotlib import style\n",
    "style.use('fivethirtyeight')\n",
    "import matplotlib.pyplot as plt"
   ]
  },
  {
   "cell_type": "code",
   "execution_count": 2,
   "metadata": {},
   "outputs": [],
   "source": [
    "import numpy as np\n",
    "import pandas as pd\n",
    "from   scipy import stats"
   ]
  },
  {
   "cell_type": "code",
   "execution_count": 3,
   "metadata": {},
   "outputs": [],
   "source": [
    "import datetime as dt\n",
    "from   datetime import timedelta"
   ]
  },
  {
   "cell_type": "code",
   "execution_count": 4,
   "metadata": {},
   "outputs": [],
   "source": [
    "from matplotlib.dates import DateFormatter"
   ]
  },
  {
   "cell_type": "markdown",
   "metadata": {},
   "source": [
    "# Reflect Tables into SQLAlchemy ORM"
   ]
  },
  {
   "cell_type": "code",
   "execution_count": 5,
   "metadata": {},
   "outputs": [],
   "source": [
    "# Python SQL toolkit and Object Relational Mapper\n",
    "\n",
    "import sqlalchemy\n",
    "from   sqlalchemy import and_\n",
    "from   sqlalchemy import or_\n",
    "from   sqlalchemy.ext.automap import automap_base\n",
    "from   sqlalchemy.orm import Session\n",
    "from   sqlalchemy import create_engine, func, inspect, distinct, desc"
   ]
  },
  {
   "cell_type": "code",
   "execution_count": 6,
   "metadata": {},
   "outputs": [],
   "source": [
    "# Create the engine\n",
    "engine = create_engine(\"sqlite:///Resources/hawaii.sqlite\")"
   ]
  },
  {
   "cell_type": "code",
   "execution_count": 7,
   "metadata": {},
   "outputs": [],
   "source": [
    "# reflect an existing database into a new model\n",
    "Base = automap_base()\n",
    "\n",
    "# reflect the tables\n",
    "Base.prepare(engine, reflect=True)"
   ]
  },
  {
   "cell_type": "code",
   "execution_count": 8,
   "metadata": {},
   "outputs": [
    {
     "data": {
      "text/plain": [
       "['measurement', 'station']"
      ]
     },
     "execution_count": 8,
     "metadata": {},
     "output_type": "execute_result"
    }
   ],
   "source": [
    "# We can view all of the classes that automap found\n",
    "# Use the Inspector to explore the database and print the table names\n",
    "inspector = inspect(engine)\n",
    "inspector.get_table_names()"
   ]
  },
  {
   "cell_type": "code",
   "execution_count": 9,
   "metadata": {},
   "outputs": [],
   "source": [
    "# reflect the tables\n",
    "# Save references to each table\n",
    "Measurement = Base.classes.measurement;\n",
    "Station     = Base.classes.station; "
   ]
  },
  {
   "cell_type": "code",
   "execution_count": 10,
   "metadata": {},
   "outputs": [],
   "source": [
    "# Create our session (link) from Python to the DB\n",
    "session = Session(engine)"
   ]
  },
  {
   "cell_type": "code",
   "execution_count": 11,
   "metadata": {},
   "outputs": [],
   "source": [
    "# Function to print keys - useful for development\n",
    "def print_keys():\n",
    "    print(Station.__dict__.keys())\n",
    "    print(Measurement.__dict__.keys())"
   ]
  },
  {
   "cell_type": "markdown",
   "metadata": {},
   "source": [
    "<div class=\"alert alert-block alert-info\">\n",
    "<b>Note:</b> \n",
    "Now ready to query the database\n",
    "</div>"
   ]
  },
  {
   "cell_type": "markdown",
   "metadata": {},
   "source": [
    "# Exploratory Climate Analysis"
   ]
  },
  {
   "cell_type": "code",
   "execution_count": 12,
   "metadata": {},
   "outputs": [],
   "source": [
    "# Design a query to retrieve the last 12 months of precipitation \n",
    "# data and plot the results\n",
    "\n",
    "# Get the last data point (max date) from the database\n",
    "max_date = session.query(func.max(Measurement.date)).first()"
   ]
  },
  {
   "cell_type": "code",
   "execution_count": 13,
   "metadata": {},
   "outputs": [],
   "source": [
    "# convert the string max_date to DATE type, save as a variable last_date\n",
    "last_date = dt.datetime.strptime(max_date[0], '%Y-%m-%d')\n",
    "#print(last_date)"
   ]
  },
  {
   "cell_type": "code",
   "execution_count": 14,
   "metadata": {},
   "outputs": [],
   "source": [
    "# Calculate the date 1 year ago from the last data point in the database\n",
    "# using timedelta(days = 365)\n",
    "one_year_before = last_date - timedelta(days=365)"
   ]
  },
  {
   "cell_type": "code",
   "execution_count": 15,
   "metadata": {},
   "outputs": [],
   "source": [
    "# Convert the DATE types back to strings\n",
    "last_date_str       = last_date.strftime(\"%Y-%m-%d\")\n",
    "one_year_before_str = one_year_before.strftime(\"%Y-%m-%d\")"
   ]
  },
  {
   "cell_type": "markdown",
   "metadata": {},
   "source": [
    "<div class=\"alert alert-block alert-info\">\n",
    "<b>Note:</b> \n",
    "Dates now in correct format to proceed with query the database\n",
    "</div>"
   ]
  },
  {
   "cell_type": "markdown",
   "metadata": {},
   "source": [
    "#### Precipitation Analysis\n",
    "\n",
    "##### Design a query to retrieve the last 12 months of precipitation data and plot the results\n"
   ]
  },
  {
   "cell_type": "code",
   "execution_count": 16,
   "metadata": {},
   "outputs": [],
   "source": [
    "# Load the results into a pandas dataframe. \n",
    "# Save the query results as a Pandas DataFrame and set the index to the date column\n",
    "\n",
    "results = session.query(Measurement.prcp, Measurement.date)\\\n",
    "                .filter(and_(Measurement.date >= one_year_before_str, \\\n",
    "                             Measurement.date <= last_date_str))\n",
    "\n",
    "### Verifying query results\n",
    "# for r in results:\n",
    "#   print (r)"
   ]
  },
  {
   "cell_type": "code",
   "execution_count": 17,
   "metadata": {},
   "outputs": [],
   "source": [
    "df = pd.DataFrame(results[:], columns=['Prcp', 'Date'])\n",
    "\n",
    "### Convert the date column to a Date Type for ease of computation\n",
    "df['Date'] = pd.to_datetime(df['Date'])\n",
    "\n",
    "### Set the index to the Date column\n",
    "df.set_index('Date', inplace=True, )\n",
    "\n",
    "# Verify the contents of the dataframe\n",
    "#df.head(100)\n",
    "#df.shape"
   ]
  },
  {
   "cell_type": "code",
   "execution_count": 18,
   "metadata": {},
   "outputs": [
    {
     "data": {
      "text/html": [
       "<div>\n",
       "<style scoped>\n",
       "    .dataframe tbody tr th:only-of-type {\n",
       "        vertical-align: middle;\n",
       "    }\n",
       "\n",
       "    .dataframe tbody tr th {\n",
       "        vertical-align: top;\n",
       "    }\n",
       "\n",
       "    .dataframe thead th {\n",
       "        text-align: right;\n",
       "    }\n",
       "</style>\n",
       "<table border=\"1\" class=\"dataframe\">\n",
       "  <thead>\n",
       "    <tr style=\"text-align: right;\">\n",
       "      <th></th>\n",
       "      <th>Prcp</th>\n",
       "    </tr>\n",
       "    <tr>\n",
       "      <th>Date</th>\n",
       "      <th></th>\n",
       "    </tr>\n",
       "  </thead>\n",
       "  <tbody>\n",
       "    <tr>\n",
       "      <th>2016-09-14</th>\n",
       "      <td>6.70</td>\n",
       "    </tr>\n",
       "    <tr>\n",
       "      <th>2017-04-29</th>\n",
       "      <td>6.25</td>\n",
       "    </tr>\n",
       "    <tr>\n",
       "      <th>2017-02-11</th>\n",
       "      <td>5.04</td>\n",
       "    </tr>\n",
       "    <tr>\n",
       "      <th>2017-07-22</th>\n",
       "      <td>4.00</td>\n",
       "    </tr>\n",
       "    <tr>\n",
       "      <th>2016-10-04</th>\n",
       "      <td>3.46</td>\n",
       "    </tr>\n",
       "    <tr>\n",
       "      <th>...</th>\n",
       "      <td>...</td>\n",
       "    </tr>\n",
       "    <tr>\n",
       "      <th>2016-08-31</th>\n",
       "      <td>NaN</td>\n",
       "    </tr>\n",
       "    <tr>\n",
       "      <th>2016-08-29</th>\n",
       "      <td>NaN</td>\n",
       "    </tr>\n",
       "    <tr>\n",
       "      <th>2016-08-27</th>\n",
       "      <td>NaN</td>\n",
       "    </tr>\n",
       "    <tr>\n",
       "      <th>2016-08-24</th>\n",
       "      <td>NaN</td>\n",
       "    </tr>\n",
       "    <tr>\n",
       "      <th>2016-08-23</th>\n",
       "      <td>NaN</td>\n",
       "    </tr>\n",
       "  </tbody>\n",
       "</table>\n",
       "<p>2230 rows × 1 columns</p>\n",
       "</div>"
      ],
      "text/plain": [
       "            Prcp\n",
       "Date            \n",
       "2016-09-14  6.70\n",
       "2017-04-29  6.25\n",
       "2017-02-11  5.04\n",
       "2017-07-22  4.00\n",
       "2016-10-04  3.46\n",
       "...          ...\n",
       "2016-08-31   NaN\n",
       "2016-08-29   NaN\n",
       "2016-08-27   NaN\n",
       "2016-08-24   NaN\n",
       "2016-08-23   NaN\n",
       "\n",
       "[2230 rows x 1 columns]"
      ]
     },
     "execution_count": 18,
     "metadata": {},
     "output_type": "execute_result"
    }
   ],
   "source": [
    "# Sort the dataframe by date\n",
    "df = df.sort_index(ascending=False)\n",
    "df.head(10)\n",
    "df.sort_values(['Prcp'], ascending=False)"
   ]
  },
  {
   "cell_type": "code",
   "execution_count": 19,
   "metadata": {},
   "outputs": [
    {
     "data": {
      "text/html": [
       "<div>\n",
       "<style scoped>\n",
       "    .dataframe tbody tr th:only-of-type {\n",
       "        vertical-align: middle;\n",
       "    }\n",
       "\n",
       "    .dataframe tbody tr th {\n",
       "        vertical-align: top;\n",
       "    }\n",
       "\n",
       "    .dataframe thead th {\n",
       "        text-align: right;\n",
       "    }\n",
       "</style>\n",
       "<table border=\"1\" class=\"dataframe\">\n",
       "  <thead>\n",
       "    <tr style=\"text-align: right;\">\n",
       "      <th></th>\n",
       "      <th>Prcp</th>\n",
       "    </tr>\n",
       "    <tr>\n",
       "      <th>Date</th>\n",
       "      <th></th>\n",
       "    </tr>\n",
       "  </thead>\n",
       "  <tbody>\n",
       "    <tr>\n",
       "      <th>2017-08-23</th>\n",
       "      <td>0.45</td>\n",
       "    </tr>\n",
       "    <tr>\n",
       "      <th>2017-08-23</th>\n",
       "      <td>0.08</td>\n",
       "    </tr>\n",
       "    <tr>\n",
       "      <th>2017-08-23</th>\n",
       "      <td>0.00</td>\n",
       "    </tr>\n",
       "    <tr>\n",
       "      <th>2017-08-23</th>\n",
       "      <td>0.00</td>\n",
       "    </tr>\n",
       "    <tr>\n",
       "      <th>2017-08-22</th>\n",
       "      <td>0.00</td>\n",
       "    </tr>\n",
       "    <tr>\n",
       "      <th>...</th>\n",
       "      <td>...</td>\n",
       "    </tr>\n",
       "    <tr>\n",
       "      <th>2016-08-23</th>\n",
       "      <td>0.05</td>\n",
       "    </tr>\n",
       "    <tr>\n",
       "      <th>2016-08-23</th>\n",
       "      <td>0.15</td>\n",
       "    </tr>\n",
       "    <tr>\n",
       "      <th>2016-08-23</th>\n",
       "      <td>0.70</td>\n",
       "    </tr>\n",
       "    <tr>\n",
       "      <th>2016-08-23</th>\n",
       "      <td>0.02</td>\n",
       "    </tr>\n",
       "    <tr>\n",
       "      <th>2016-08-23</th>\n",
       "      <td>0.00</td>\n",
       "    </tr>\n",
       "  </tbody>\n",
       "</table>\n",
       "<p>2021 rows × 1 columns</p>\n",
       "</div>"
      ],
      "text/plain": [
       "            Prcp\n",
       "Date            \n",
       "2017-08-23  0.45\n",
       "2017-08-23  0.08\n",
       "2017-08-23  0.00\n",
       "2017-08-23  0.00\n",
       "2017-08-22  0.00\n",
       "...          ...\n",
       "2016-08-23  0.05\n",
       "2016-08-23  0.15\n",
       "2016-08-23  0.70\n",
       "2016-08-23  0.02\n",
       "2016-08-23  0.00\n",
       "\n",
       "[2021 rows x 1 columns]"
      ]
     },
     "execution_count": 19,
     "metadata": {},
     "output_type": "execute_result"
    }
   ],
   "source": [
    "# Drop any rows with NaN\n",
    "df = df.dropna(how='any')\n",
    "df"
   ]
  },
  {
   "cell_type": "code",
   "execution_count": 20,
   "metadata": {},
   "outputs": [
    {
     "data": {
      "image/png": "[encoded data removed]",
      "text/plain": [
       "<Figure size 648x576 with 1 Axes>"
      ]
     },
     "metadata": {},
     "output_type": "display_data"
    }
   ],
   "source": [
    "# Plot the precipitation data\n",
    "x_values = df.index\n",
    "y_values = df['Prcp']\n",
    "\n",
    "\n",
    "fig, ax = plt.subplots(figsize=(9,8))\n",
    "ax.set_xlabel(\"Dates\", fontsize=10, labelpad = 30)\n",
    "\n",
    "# plot values\n",
    "#plt.plot(x_values, y_values, label = \"precipitation\")\n",
    "plt.plot(x_values, y_values, label = \"precipitation\")\n",
    "\n",
    "# Define the date format\n",
    "date_form = DateFormatter(\"%m-%d-%Y\")\n",
    "ax.xaxis.set_major_formatter(date_form)\n",
    "\n",
    "# label and format axes, add title and legend\n",
    "plt.xlabel('Date')\n",
    "plt.ylabel('Inches')\n",
    "plt.title ( f'Last 12 Months of Precipitation Observations \\n{one_year_before_str} through {last_date_str}')\n",
    "plt.legend(loc='upper right')\n",
    "plt.xticks(rotation=90)\n",
    "plt.tick_params(axis='x', which='major', labelsize=10)\n",
    "plt.tick_params(axis='y', which='major', labelsize=10)\n",
    "\n",
    "plt.tight_layout()\n",
    "\n",
    "plt.show()\n",
    "\n",
    "fig.savefig(\"./Images/prcp.png\")"
   ]
  },
  {
   "cell_type": "markdown",
   "metadata": {},
   "source": [
    "<div class=\"alert alert-block alert-info\">\n",
    "<b>Observation:</b> \n",
    "There is usually less than 3 inches of precipitation for any give observation. However, \n",
    "there are three clear spikes in precipitation in February, April and September with recorded levels of 5-7 inches (see table below).  Interestingly, two of the three spikes were recorded at the same weather station. \n",
    "\n",
    "<table>\n",
    "  <tr>\n",
    "    <th>Date</th>\n",
    "    <th>Station</th>\n",
    "    <th>Prcp (Inches)</th>\n",
    "  </tr>\n",
    "  <tr>\n",
    "    <td>2016-09-14</td>\n",
    "    <td>USC00516128</td>\n",
    "    <td>6.70</td>\n",
    "  </tr>\n",
    "  <tr>\n",
    "    <td>2017-04-29</td>\n",
    "    <td>USC00519523</td>\n",
    "    <td>6.25</td>\n",
    "  </tr>\n",
    "  <tr>\n",
    "    <td>2017-02-11</td>\n",
    "    <td>USC00519523</td>\n",
    "    <td>5.04</td>\n",
    "  </tr>    \n",
    "</table>\n",
    "</div>"
   ]
  },
  {
   "cell_type": "code",
   "execution_count": 21,
   "metadata": {},
   "outputs": [
    {
     "data": {
      "text/html": [
       "<div>\n",
       "<style scoped>\n",
       "    .dataframe tbody tr th:only-of-type {\n",
       "        vertical-align: middle;\n",
       "    }\n",
       "\n",
       "    .dataframe tbody tr th {\n",
       "        vertical-align: top;\n",
       "    }\n",
       "\n",
       "    .dataframe thead th {\n",
       "        text-align: right;\n",
       "    }\n",
       "</style>\n",
       "<table border=\"1\" class=\"dataframe\">\n",
       "  <thead>\n",
       "    <tr style=\"text-align: right;\">\n",
       "      <th></th>\n",
       "      <th>Prcp</th>\n",
       "    </tr>\n",
       "  </thead>\n",
       "  <tbody>\n",
       "    <tr>\n",
       "      <th>count</th>\n",
       "      <td>2021.000000</td>\n",
       "    </tr>\n",
       "    <tr>\n",
       "      <th>mean</th>\n",
       "      <td>0.177279</td>\n",
       "    </tr>\n",
       "    <tr>\n",
       "      <th>std</th>\n",
       "      <td>0.461190</td>\n",
       "    </tr>\n",
       "    <tr>\n",
       "      <th>min</th>\n",
       "      <td>0.000000</td>\n",
       "    </tr>\n",
       "    <tr>\n",
       "      <th>25%</th>\n",
       "      <td>0.000000</td>\n",
       "    </tr>\n",
       "    <tr>\n",
       "      <th>50%</th>\n",
       "      <td>0.020000</td>\n",
       "    </tr>\n",
       "    <tr>\n",
       "      <th>75%</th>\n",
       "      <td>0.130000</td>\n",
       "    </tr>\n",
       "    <tr>\n",
       "      <th>max</th>\n",
       "      <td>6.700000</td>\n",
       "    </tr>\n",
       "  </tbody>\n",
       "</table>\n",
       "</div>"
      ],
      "text/plain": [
       "              Prcp\n",
       "count  2021.000000\n",
       "mean      0.177279\n",
       "std       0.461190\n",
       "min       0.000000\n",
       "25%       0.000000\n",
       "50%       0.020000\n",
       "75%       0.130000\n",
       "max       6.700000"
      ]
     },
     "execution_count": 21,
     "metadata": {},
     "output_type": "execute_result"
    }
   ],
   "source": [
    "# Use Pandas to calculate the summary statistics for the precipitation data\n",
    "df.describe()"
   ]
  },
  {
   "cell_type": "markdown",
   "metadata": {},
   "source": [
    "<div class=\"alert alert-block alert-info\">\n",
    "<b>Observation:</b> \n",
    "For over 2000 observations during the given year there appears to be very few very heavy precipitation dates.  On average for the year observed here precipitation is less than one-fifth of an inch, in Hawaii, apart from the spikes in three months of the year (as described above). \n",
    "</div>"
   ]
  },
  {
   "cell_type": "markdown",
   "metadata": {},
   "source": [
    "### Station Analysis"
   ]
  },
  {
   "cell_type": "code",
   "execution_count": 22,
   "metadata": {},
   "outputs": [
    {
     "name": "stdout",
     "output_type": "stream",
     "text": [
      "There are 9 stations available in this dataset \n"
     ]
    }
   ],
   "source": [
    "# Design a query to show how many stations are available in this dataset?\n",
    "#print(Station.__dict__.keys())\n",
    "\n",
    "num_stations = session.query(func.count(Station.station)).first()\n",
    "print(f\"There are {num_stations[0]} stations available in this dataset \")"
   ]
  },
  {
   "cell_type": "code",
   "execution_count": 23,
   "metadata": {},
   "outputs": [
    {
     "name": "stdout",
     "output_type": "stream",
     "text": [
      "There are 9 stations available in this dataset\n"
     ]
    }
   ],
   "source": [
    "## or we could count them like this\n",
    "number_of_stations = session.query(func.count(distinct(Measurement.station))).first()\n",
    "print(f\"There are {number_of_stations[0]} stations available in this dataset\")"
   ]
  },
  {
   "cell_type": "markdown",
   "metadata": {},
   "source": [
    "<div class=\"alert alert-block alert-info\">\n",
    "<b>Note:</b> \n",
    "Nine stations can record over 2000 observations each year. \n",
    "</div>"
   ]
  },
  {
   "cell_type": "code",
   "execution_count": 24,
   "metadata": {},
   "outputs": [],
   "source": [
    "# results = session.query(Station.id, Station.station, Station.name).\\\n",
    "#     order_by(Station.id.desc()).all()\n",
    "\n",
    "# for r in results:\n",
    "#   print(r)"
   ]
  },
  {
   "cell_type": "code",
   "execution_count": 25,
   "metadata": {},
   "outputs": [
    {
     "data": {
      "text/html": [
       "<div>\n",
       "<style scoped>\n",
       "    .dataframe tbody tr th:only-of-type {\n",
       "        vertical-align: middle;\n",
       "    }\n",
       "\n",
       "    .dataframe tbody tr th {\n",
       "        vertical-align: top;\n",
       "    }\n",
       "\n",
       "    .dataframe thead th {\n",
       "        text-align: right;\n",
       "    }\n",
       "</style>\n",
       "<table border=\"1\" class=\"dataframe\">\n",
       "  <thead>\n",
       "    <tr style=\"text-align: right;\">\n",
       "      <th></th>\n",
       "      <th>Station Name</th>\n",
       "      <th>Station</th>\n",
       "      <th>Station Count</th>\n",
       "    </tr>\n",
       "  </thead>\n",
       "  <tbody>\n",
       "    <tr>\n",
       "      <th>0</th>\n",
       "      <td>WAIHEE 837.5, HI US</td>\n",
       "      <td>USC00519281</td>\n",
       "      <td>2772</td>\n",
       "    </tr>\n",
       "    <tr>\n",
       "      <th>1</th>\n",
       "      <td>WAIKIKI 717.2, HI US</td>\n",
       "      <td>USC00519397</td>\n",
       "      <td>2724</td>\n",
       "    </tr>\n",
       "    <tr>\n",
       "      <th>2</th>\n",
       "      <td>KANEOHE 838.1, HI US</td>\n",
       "      <td>USC00513117</td>\n",
       "      <td>2709</td>\n",
       "    </tr>\n",
       "    <tr>\n",
       "      <th>3</th>\n",
       "      <td>WAIMANALO EXPERIMENTAL FARM, HI US</td>\n",
       "      <td>USC00519523</td>\n",
       "      <td>2669</td>\n",
       "    </tr>\n",
       "    <tr>\n",
       "      <th>4</th>\n",
       "      <td>MANOA LYON ARBO 785.2, HI US</td>\n",
       "      <td>USC00516128</td>\n",
       "      <td>2612</td>\n",
       "    </tr>\n",
       "    <tr>\n",
       "      <th>5</th>\n",
       "      <td>KUALOA RANCH HEADQUARTERS 886.9, HI US</td>\n",
       "      <td>USC00514830</td>\n",
       "      <td>2202</td>\n",
       "    </tr>\n",
       "    <tr>\n",
       "      <th>6</th>\n",
       "      <td>HONOLULU OBSERVATORY 702.2, HI US</td>\n",
       "      <td>USC00511918</td>\n",
       "      <td>1979</td>\n",
       "    </tr>\n",
       "    <tr>\n",
       "      <th>7</th>\n",
       "      <td>PEARL CITY, HI US</td>\n",
       "      <td>USC00517948</td>\n",
       "      <td>1372</td>\n",
       "    </tr>\n",
       "    <tr>\n",
       "      <th>8</th>\n",
       "      <td>UPPER WAHIAWA 874.3, HI US</td>\n",
       "      <td>USC00518838</td>\n",
       "      <td>511</td>\n",
       "    </tr>\n",
       "  </tbody>\n",
       "</table>\n",
       "</div>"
      ],
      "text/plain": [
       "                             Station Name      Station  Station Count\n",
       "0                     WAIHEE 837.5, HI US  USC00519281           2772\n",
       "1                    WAIKIKI 717.2, HI US  USC00519397           2724\n",
       "2                    KANEOHE 838.1, HI US  USC00513117           2709\n",
       "3      WAIMANALO EXPERIMENTAL FARM, HI US  USC00519523           2669\n",
       "4            MANOA LYON ARBO 785.2, HI US  USC00516128           2612\n",
       "5  KUALOA RANCH HEADQUARTERS 886.9, HI US  USC00514830           2202\n",
       "6       HONOLULU OBSERVATORY 702.2, HI US  USC00511918           1979\n",
       "7                       PEARL CITY, HI US  USC00517948           1372\n",
       "8              UPPER WAHIAWA 874.3, HI US  USC00518838            511"
      ]
     },
     "execution_count": 25,
     "metadata": {},
     "output_type": "execute_result"
    }
   ],
   "source": [
    "# What are the most active stations? (i.e. what stations have the most rows)?\n",
    "# List the stations and the counts in descending order.\n",
    "\n",
    "most_active_stations = session.query(Station.name, Measurement.station, func.count(Measurement.station))\\\n",
    ".group_by(Measurement.station).order_by(desc(func.count(Measurement.station)))\\\n",
    ".filter(Measurement.station == Station.station)\n",
    "\n",
    "# for station in most_active_stations:\n",
    "#     print(station)\n",
    "    \n",
    "station_count_df = pd.DataFrame(most_active_stations[:], columns=['Station Name','Station', 'Station Count'])\n",
    "station_count_df"
   ]
  },
  {
   "cell_type": "markdown",
   "metadata": {},
   "source": [
    "<div class=\"alert alert-block alert-info\">\n",
    "<b>Observation:</b> \n",
    "Waihee 837.5, HI, US Station (USC00519281) has the highest number (2772) of observations.  \n",
    "</div>"
   ]
  },
  {
   "cell_type": "markdown",
   "metadata": {},
   "source": [
    "#### Lowest, Highest and Average Temperture for Most Active Station\n",
    "\n"
   ]
  },
  {
   "cell_type": "code",
   "execution_count": 26,
   "metadata": {},
   "outputs": [
    {
     "name": "stdout",
     "output_type": "stream",
     "text": [
      "For the most active station: \t\tWAIHEE 837.5, HI US:\n",
      "The Station id \t\t\t\tUSC00519281\n",
      "The lowest temperature recorded is \t54.0  degrees\n",
      "The highest temperature recorded is \t85.0  degrees\n",
      "The average temperature is \t\t71.66 degrees\n"
     ]
    }
   ],
   "source": [
    "# Using the station id from the previous query, calculate \n",
    "# the lowest temperature recorded, \n",
    "# highest temperature recorded, and \n",
    "# the average temperature of the most active station?\n",
    "\n",
    "# most active station is first row of dataframe containing station_count\n",
    "station_id   = station_count_df.iloc[0]['Station']\n",
    "station_name = station_count_df.iloc[0]['Station Name']\n",
    "#print(station_id)\n",
    "\n",
    "# Get the lowest temperature\n",
    "low_temp = session.query(func.min(Measurement.tobs)).filter(Measurement.station == station_id).first()\n",
    "#print(low_temp[0])\n",
    "\n",
    "# Get the highest temperature\n",
    "high_temp = session.query(func.max(Measurement.tobs)).filter(Measurement.station == station_id).first()\n",
    "#print(high_temp[0])\n",
    "# Get the average temperature\n",
    "\n",
    "ave_temp = session.query(func.avg(Measurement.tobs)).filter(Measurement.station == station_id).first()\n",
    "\n",
    "print(f\"For the most active station: \\t\\t{station_name}:\\n\" +\n",
    "      f\"The Station id \\t\\t\\t\\t{station_id}\\n\" +\n",
    "      f\"The lowest temperature recorded is \\t{low_temp[0]}  degrees\\n\" +\n",
    "      f\"The highest temperature recorded is \\t{high_temp[0]}  degrees\\n\" +\n",
    "      f\"The average temperature is \\t\\t{round(ave_temp[0],2)} degrees\")"
   ]
  },
  {
   "cell_type": "markdown",
   "metadata": {},
   "source": [
    "<div class=\"alert alert-block alert-info\">\n",
    "<b>Progress:</b> \n",
    "The most active station shows a moderate climate with temperatures ranging from 54 to 85.0 degrees, with and average of 71.66 degrees. \n",
    "</div>"
   ]
  },
  {
   "cell_type": "code",
   "execution_count": 27,
   "metadata": {},
   "outputs": [],
   "source": [
    "# Design a query to retrieve the last 12 months of temperature observation data (TOBS).\n",
    "# Filter by highest number of observations"
   ]
  },
  {
   "cell_type": "code",
   "execution_count": 28,
   "metadata": {},
   "outputs": [
    {
     "name": "stdout",
     "output_type": "stream",
     "text": [
      "The station with the highest number of temperature observations is USC00519281\n"
     ]
    }
   ],
   "source": [
    "# Choose the station with the highest number of temperature observations.\n",
    "# Query the last 12 months of temperature observation data for this station and plot the results as a histogram\n",
    "highest_temp_obs = session.query(Measurement.station, Measurement.tobs, func.count(Measurement.tobs))\\\n",
    "                    .group_by(Measurement.station).order_by(desc(func.count(Measurement.tobs)))\n",
    "# for h in highest_temp_obs:\n",
    "#      print (h)\n",
    "station_tobs = highest_temp_obs[0][0]\n",
    "print(f\"The station with the highest number of temperature observations is {station_tobs}\")"
   ]
  },
  {
   "cell_type": "code",
   "execution_count": 29,
   "metadata": {},
   "outputs": [
    {
     "data": {
      "text/html": [
       "<div>\n",
       "<style scoped>\n",
       "    .dataframe tbody tr th:only-of-type {\n",
       "        vertical-align: middle;\n",
       "    }\n",
       "\n",
       "    .dataframe tbody tr th {\n",
       "        vertical-align: top;\n",
       "    }\n",
       "\n",
       "    .dataframe thead th {\n",
       "        text-align: right;\n",
       "    }\n",
       "</style>\n",
       "<table border=\"1\" class=\"dataframe\">\n",
       "  <thead>\n",
       "    <tr style=\"text-align: right;\">\n",
       "      <th></th>\n",
       "      <th>Temperature</th>\n",
       "      <th>date</th>\n",
       "    </tr>\n",
       "  </thead>\n",
       "  <tbody>\n",
       "    <tr>\n",
       "      <th>0</th>\n",
       "      <td>77.0</td>\n",
       "      <td>2016-08-23</td>\n",
       "    </tr>\n",
       "    <tr>\n",
       "      <th>1</th>\n",
       "      <td>77.0</td>\n",
       "      <td>2016-08-24</td>\n",
       "    </tr>\n",
       "    <tr>\n",
       "      <th>2</th>\n",
       "      <td>80.0</td>\n",
       "      <td>2016-08-25</td>\n",
       "    </tr>\n",
       "  </tbody>\n",
       "</table>\n",
       "</div>"
      ],
      "text/plain": [
       "   Temperature        date\n",
       "0         77.0  2016-08-23\n",
       "1         77.0  2016-08-24\n",
       "2         80.0  2016-08-25"
      ]
     },
     "execution_count": 29,
     "metadata": {},
     "output_type": "execute_result"
    }
   ],
   "source": [
    "# A query to retrieve the last 12 months of temperature observation data (TOBS).\n",
    "# results = session.query(Measurement.station, Measurement.prcp, Measurement.tobs, Measurement.date)\\\n",
    "#                 .filter(Measurement.station == station_tobs) \\\n",
    "#                 .filter(and_(Measurement.date >= one_year_before_str, Measurement.date <= last_date_str))\n",
    "\n",
    "# temperature_obs_df = pd.DataFrame(results[:], columns=['Station', 'Precipitation', 'Temperature', 'date'])\n",
    "\n",
    "results = session.query(Measurement.tobs, Measurement.date)\\\n",
    "                .filter(Measurement.station == station_tobs) \\\n",
    "                .filter(and_(Measurement.date >= one_year_before_str, Measurement.date <= last_date_str))\n",
    "\n",
    "temperature_obs_df = pd.DataFrame(results[:], columns=['Temperature', 'date'])\n",
    "\n",
    "\n",
    "temperature_obs_df.head(3)"
   ]
  },
  {
   "cell_type": "code",
   "execution_count": 30,
   "metadata": {},
   "outputs": [
    {
     "data": {
      "image/png": "[encoded data removed]",
      "text/plain": [
       "<Figure size 1080x540 with 1 Axes>"
      ]
     },
     "metadata": {},
     "output_type": "display_data"
    }
   ],
   "source": [
    "#Plot the results as a histogram with bins=12.\n",
    "\n",
    "# set up the data\n",
    "x    = temperature_obs_df['Temperature']\n",
    "bins = 12\n",
    "\n",
    "# plot the histogram\n",
    "n, xbins, patches = plt.hist(x, bins, facecolor='blue', alpha=1,label=['tobs'] )\n",
    "\n",
    "# Label and title the plot and axes\n",
    "plt.xlabel(u'Temperature (\\N{DEGREE SIGN}F)')\n",
    "plt.ylabel( 'Frequency')\n",
    "plt.title (f'Last 12 Months of Temperature Observations \\n{one_year_before_str} through {last_date_str}')\n",
    "plt.legend()\n",
    "\n",
    "fig= plt.gcf()\n",
    "fig.set_size_inches(15, 7.5)     # set a suitable size\n",
    "plt.subplots_adjust(right=0.75) \n",
    "\n",
    "plt.show()\n",
    "fig.savefig(\"./Images/tobs_histogram.png\")\n"
   ]
  },
  {
   "cell_type": "markdown",
   "metadata": {},
   "source": [
    "<div class=\"alert alert-block alert-info\">\n",
    "<b>Observation:</b> \n",
    "The recorded temperature for the given dates is mostly between 75 and 77 degrees (F)\n",
    "</div>"
   ]
  },
  {
   "cell_type": "markdown",
   "metadata": {},
   "source": [
    "## Bonus Challenge Assignment"
   ]
  },
  {
   "cell_type": "markdown",
   "metadata": {},
   "source": [
    "## Temperature Analysis I"
   ]
  },
  {
   "cell_type": "markdown",
   "metadata": {},
   "source": [
    "-  Hawaii is reputed to enjoy mild weather all year. Is there a meaningful difference between the temperature in, for example, June and December?\n",
    "-  You may either use SQLAlchemy or pandas's read_csv() to perform this portion.\n",
    "-  Use the t-test to determine whether the difference in the means, if any, is statistically significant. Will you use a paired t-test, or an unpaired t-test? Why?"
   ]
  },
  {
   "cell_type": "code",
   "execution_count": 31,
   "metadata": {},
   "outputs": [],
   "source": [
    "#Identify the average temperature in June at all stations across all available years in the dataset. "
   ]
  },
  {
   "cell_type": "code",
   "execution_count": 32,
   "metadata": {},
   "outputs": [
    {
     "data": {
      "text/html": [
       "<div>\n",
       "<style scoped>\n",
       "    .dataframe tbody tr th:only-of-type {\n",
       "        vertical-align: middle;\n",
       "    }\n",
       "\n",
       "    .dataframe tbody tr th {\n",
       "        vertical-align: top;\n",
       "    }\n",
       "\n",
       "    .dataframe thead th {\n",
       "        text-align: right;\n",
       "    }\n",
       "</style>\n",
       "<table border=\"1\" class=\"dataframe\">\n",
       "  <thead>\n",
       "    <tr style=\"text-align: right;\">\n",
       "      <th></th>\n",
       "      <th>Station</th>\n",
       "      <th>Temp</th>\n",
       "      <th>Date</th>\n",
       "    </tr>\n",
       "  </thead>\n",
       "  <tbody>\n",
       "    <tr>\n",
       "      <th>0</th>\n",
       "      <td>USC00519397</td>\n",
       "      <td>78.0</td>\n",
       "      <td>2010-06-01</td>\n",
       "    </tr>\n",
       "    <tr>\n",
       "      <th>1</th>\n",
       "      <td>USC00519397</td>\n",
       "      <td>76.0</td>\n",
       "      <td>2010-06-02</td>\n",
       "    </tr>\n",
       "    <tr>\n",
       "      <th>2</th>\n",
       "      <td>USC00519397</td>\n",
       "      <td>78.0</td>\n",
       "      <td>2010-06-03</td>\n",
       "    </tr>\n",
       "    <tr>\n",
       "      <th>3</th>\n",
       "      <td>USC00519397</td>\n",
       "      <td>76.0</td>\n",
       "      <td>2010-06-04</td>\n",
       "    </tr>\n",
       "    <tr>\n",
       "      <th>4</th>\n",
       "      <td>USC00519397</td>\n",
       "      <td>77.0</td>\n",
       "      <td>2010-06-05</td>\n",
       "    </tr>\n",
       "    <tr>\n",
       "      <th>...</th>\n",
       "      <td>...</td>\n",
       "      <td>...</td>\n",
       "      <td>...</td>\n",
       "    </tr>\n",
       "    <tr>\n",
       "      <th>1695</th>\n",
       "      <td>USC00516128</td>\n",
       "      <td>79.0</td>\n",
       "      <td>2017-06-26</td>\n",
       "    </tr>\n",
       "    <tr>\n",
       "      <th>1696</th>\n",
       "      <td>USC00516128</td>\n",
       "      <td>74.0</td>\n",
       "      <td>2017-06-27</td>\n",
       "    </tr>\n",
       "    <tr>\n",
       "      <th>1697</th>\n",
       "      <td>USC00516128</td>\n",
       "      <td>74.0</td>\n",
       "      <td>2017-06-28</td>\n",
       "    </tr>\n",
       "    <tr>\n",
       "      <th>1698</th>\n",
       "      <td>USC00516128</td>\n",
       "      <td>76.0</td>\n",
       "      <td>2017-06-29</td>\n",
       "    </tr>\n",
       "    <tr>\n",
       "      <th>1699</th>\n",
       "      <td>USC00516128</td>\n",
       "      <td>75.0</td>\n",
       "      <td>2017-06-30</td>\n",
       "    </tr>\n",
       "  </tbody>\n",
       "</table>\n",
       "<p>1700 rows × 3 columns</p>\n",
       "</div>"
      ],
      "text/plain": [
       "          Station  Temp        Date\n",
       "0     USC00519397  78.0  2010-06-01\n",
       "1     USC00519397  76.0  2010-06-02\n",
       "2     USC00519397  78.0  2010-06-03\n",
       "3     USC00519397  76.0  2010-06-04\n",
       "4     USC00519397  77.0  2010-06-05\n",
       "...           ...   ...         ...\n",
       "1695  USC00516128  79.0  2017-06-26\n",
       "1696  USC00516128  74.0  2017-06-27\n",
       "1697  USC00516128  74.0  2017-06-28\n",
       "1698  USC00516128  76.0  2017-06-29\n",
       "1699  USC00516128  75.0  2017-06-30\n",
       "\n",
       "[1700 rows x 3 columns]"
      ]
     },
     "execution_count": 32,
     "metadata": {},
     "output_type": "execute_result"
    }
   ],
   "source": [
    "# JUNE\n",
    "month = \"%-06-%\"\n",
    "\n",
    "june = session.query(Measurement.station, Measurement.tobs, Measurement.date)\\\n",
    "            .filter(Measurement.date.like(month)).all()\n",
    "\n",
    "# for r in june:\n",
    "#     print(r)\n",
    "june_df = pd.DataFrame(june[:], columns=['Station', 'Temp', 'Date'])\n",
    "june_df"
   ]
  },
  {
   "cell_type": "code",
   "execution_count": 33,
   "metadata": {},
   "outputs": [],
   "source": [
    "#Identify the average temperature in December at all stations across all available years in the dataset. "
   ]
  },
  {
   "cell_type": "code",
   "execution_count": 34,
   "metadata": {},
   "outputs": [
    {
     "data": {
      "text/html": [
       "<div>\n",
       "<style scoped>\n",
       "    .dataframe tbody tr th:only-of-type {\n",
       "        vertical-align: middle;\n",
       "    }\n",
       "\n",
       "    .dataframe tbody tr th {\n",
       "        vertical-align: top;\n",
       "    }\n",
       "\n",
       "    .dataframe thead th {\n",
       "        text-align: right;\n",
       "    }\n",
       "</style>\n",
       "<table border=\"1\" class=\"dataframe\">\n",
       "  <thead>\n",
       "    <tr style=\"text-align: right;\">\n",
       "      <th></th>\n",
       "      <th>Station</th>\n",
       "      <th>Temp</th>\n",
       "      <th>Date</th>\n",
       "    </tr>\n",
       "  </thead>\n",
       "  <tbody>\n",
       "    <tr>\n",
       "      <th>0</th>\n",
       "      <td>USC00519397</td>\n",
       "      <td>76.0</td>\n",
       "      <td>2010-12-01</td>\n",
       "    </tr>\n",
       "    <tr>\n",
       "      <th>1</th>\n",
       "      <td>USC00519397</td>\n",
       "      <td>74.0</td>\n",
       "      <td>2010-12-03</td>\n",
       "    </tr>\n",
       "    <tr>\n",
       "      <th>2</th>\n",
       "      <td>USC00519397</td>\n",
       "      <td>74.0</td>\n",
       "      <td>2010-12-04</td>\n",
       "    </tr>\n",
       "    <tr>\n",
       "      <th>3</th>\n",
       "      <td>USC00519397</td>\n",
       "      <td>64.0</td>\n",
       "      <td>2010-12-06</td>\n",
       "    </tr>\n",
       "    <tr>\n",
       "      <th>4</th>\n",
       "      <td>USC00519397</td>\n",
       "      <td>64.0</td>\n",
       "      <td>2010-12-07</td>\n",
       "    </tr>\n",
       "    <tr>\n",
       "      <th>...</th>\n",
       "      <td>...</td>\n",
       "      <td>...</td>\n",
       "      <td>...</td>\n",
       "    </tr>\n",
       "    <tr>\n",
       "      <th>1512</th>\n",
       "      <td>USC00516128</td>\n",
       "      <td>71.0</td>\n",
       "      <td>2016-12-27</td>\n",
       "    </tr>\n",
       "    <tr>\n",
       "      <th>1513</th>\n",
       "      <td>USC00516128</td>\n",
       "      <td>71.0</td>\n",
       "      <td>2016-12-28</td>\n",
       "    </tr>\n",
       "    <tr>\n",
       "      <th>1514</th>\n",
       "      <td>USC00516128</td>\n",
       "      <td>69.0</td>\n",
       "      <td>2016-12-29</td>\n",
       "    </tr>\n",
       "    <tr>\n",
       "      <th>1515</th>\n",
       "      <td>USC00516128</td>\n",
       "      <td>65.0</td>\n",
       "      <td>2016-12-30</td>\n",
       "    </tr>\n",
       "    <tr>\n",
       "      <th>1516</th>\n",
       "      <td>USC00516128</td>\n",
       "      <td>65.0</td>\n",
       "      <td>2016-12-31</td>\n",
       "    </tr>\n",
       "  </tbody>\n",
       "</table>\n",
       "<p>1517 rows × 3 columns</p>\n",
       "</div>"
      ],
      "text/plain": [
       "          Station  Temp        Date\n",
       "0     USC00519397  76.0  2010-12-01\n",
       "1     USC00519397  74.0  2010-12-03\n",
       "2     USC00519397  74.0  2010-12-04\n",
       "3     USC00519397  64.0  2010-12-06\n",
       "4     USC00519397  64.0  2010-12-07\n",
       "...           ...   ...         ...\n",
       "1512  USC00516128  71.0  2016-12-27\n",
       "1513  USC00516128  71.0  2016-12-28\n",
       "1514  USC00516128  69.0  2016-12-29\n",
       "1515  USC00516128  65.0  2016-12-30\n",
       "1516  USC00516128  65.0  2016-12-31\n",
       "\n",
       "[1517 rows x 3 columns]"
      ]
     },
     "execution_count": 34,
     "metadata": {},
     "output_type": "execute_result"
    }
   ],
   "source": [
    "# December\n",
    "month = \"%-12-%\"\n",
    "\n",
    "december = session.query(Measurement.station, Measurement.tobs, Measurement.date)\\\n",
    "            .filter(Measurement.date.like(month)).all()\n",
    "\n",
    "december_df = pd.DataFrame(december[:], columns=['Station', 'Temp', 'Date'])\n",
    "december_df"
   ]
  },
  {
   "cell_type": "code",
   "execution_count": 35,
   "metadata": {},
   "outputs": [],
   "source": [
    "# Some preliminary inspection"
   ]
  },
  {
   "cell_type": "code",
   "execution_count": 36,
   "metadata": {},
   "outputs": [
    {
     "data": {
      "text/plain": [
       "74.94411764705882"
      ]
     },
     "execution_count": 36,
     "metadata": {},
     "output_type": "execute_result"
    }
   ],
   "source": [
    "# Calculate the population mean for Temperature in June in Hawaii\n",
    "population1 = june_df['Temp']\n",
    "population1.mean()"
   ]
  },
  {
   "cell_type": "code",
   "execution_count": 37,
   "metadata": {},
   "outputs": [
    {
     "data": {
      "text/plain": [
       "71.04152933421226"
      ]
     },
     "execution_count": 37,
     "metadata": {},
     "output_type": "execute_result"
    }
   ],
   "source": [
    "# Calculate the population mean for Temperature in December in Hawaii\n",
    "population2 = december_df['Temp']\n",
    "population2.mean()"
   ]
  },
  {
   "cell_type": "code",
   "execution_count": 38,
   "metadata": {},
   "outputs": [],
   "source": [
    "# Do a box plot to compare means"
   ]
  },
  {
   "cell_type": "code",
   "execution_count": 39,
   "metadata": {},
   "outputs": [
    {
     "data": {
      "image/png": "[encoded data removed]",
      "text/plain": [
       "<Figure size 1440x720 with 1 Axes>"
      ]
     },
     "metadata": {},
     "output_type": "display_data"
    }
   ],
   "source": [
    "jun_dec = pd.DataFrame({'June' : june_df['Temp'], \n",
    "                        'December' : december_df['Temp'] })\n",
    "\n",
    "#jun_dec\n",
    "jun_dec = jun_dec.dropna(how='any')\n",
    "boxplot = jun_dec.boxplot(column=['June', 'December'],  figsize=(20, 10))\n",
    "#jun_dec"
   ]
  },
  {
   "cell_type": "markdown",
   "metadata": {},
   "source": [
    "<div class=\"alert alert-block alert-info\">\n",
    "<b>Observation:</b> \n",
    "The average temperature looks lower for December but there are many outliers. \n",
    "</div>"
   ]
  },
  {
   "cell_type": "code",
   "execution_count": 40,
   "metadata": {},
   "outputs": [
    {
     "name": "stdout",
     "output_type": "stream",
     "text": [
      "There are statistically significant difference between June and December Temperatures, p = 4.19E-187\n"
     ]
    }
   ],
   "source": [
    "# Use the t-test to determine whether the difference in the means, if any, is statistically significant. \n",
    "# Will you use a paired t-test, or an unpaired t-test? Why?\n",
    "\n",
    "# Choose the unpaired t-test as you have two independent measurements on the same thing (temperature).\n",
    "# An unpaired t-test (also known as an independent t-test) is a statistical procedure that compares the \n",
    "# averages/means of two independent or unrelated groups to determine if there is a significant difference \n",
    "# between the two\n",
    "\n",
    "# The null hypothesis will state that the two populations  have no statistically significant difference. \n",
    "# No statistically significant difference between June and December Temperatures\n",
    "# The alternate hypothesis will state that there is one present.\n",
    "# There are statistically significant difference between June and December Temperatures\n",
    "# Calculate the T-test for the means of two independent samples of scores.\n",
    "\n",
    "# NULL HYPOTHESIS: Average Temperatures in Hawaii in June and December are the same\n",
    "# ALATERNATE: Average Temperatures in Hawaii in June and December are not the same.\n",
    "\n",
    "ind_ttest = stats.ttest_ind(population1, population2, equal_var=False)\n",
    "\n",
    "p_value = ind_ttest[1]\n",
    "if(p_value < 0.05):\n",
    "    # we can reject null hypothesis\n",
    "    print(\"There are statistically significant difference between June and December Temperatures\" +\n",
    "          \", p = {:.2E}\".format(p_value))\n",
    "else:\n",
    "    print(\"There are no statistically significant difference between June and December Temperatures\" +\n",
    "          \", p = {:.2E}\".format(p_value))"
   ]
  },
  {
   "cell_type": "markdown",
   "metadata": {},
   "source": [
    "<div class=\"alert alert-block alert-info\">\n",
    "<b>Observation:</b> \n",
    "The difference between the higher average temperature observed in June and the lower average temperature observed in December is statistically significant.\n",
    "</div>"
   ]
  },
  {
   "cell_type": "markdown",
   "metadata": {},
   "source": [
    "## Temperature Analysis II"
   ]
  },
  {
   "cell_type": "code",
   "execution_count": 41,
   "metadata": {},
   "outputs": [],
   "source": [
    "# This function called `calc_temps` will accept start date and end date in the format '%Y-%m-%d' \n",
    "# and return the minimum, average, and maximum temperatures for that range of dates\n",
    "def calc_temps(start_date, end_date):\n",
    "    \"\"\"TMIN, TAVG, and TMAX for a list of dates.\n",
    "    \n",
    "    Args:\n",
    "        start_date (string): A date string in the format %Y-%m-%d\n",
    "        end_date (string): A date string in the format %Y-%m-%d\n",
    "        \n",
    "    Returns:\n",
    "        TMIN, TAVE, and TMAX\n",
    "    \"\"\"\n",
    "    \n",
    "    return session.query(func.min(Measurement.tobs), func.avg(Measurement.tobs), func.max(Measurement.tobs)).\\\n",
    "        filter(Measurement.date >= start_date).filter(Measurement.date <= end_date).all()\n",
    "\n",
    "# function usage example\n",
    "#print(calc_temps('2012-02-28', '2012-03-05'))"
   ]
  },
  {
   "cell_type": "code",
   "execution_count": 42,
   "metadata": {},
   "outputs": [],
   "source": [
    "# Use your previous function `calc_temps` to calculate the tmin, tavg, and tmax \n",
    "# for your trip using the previous year's data for those same dates.\n",
    "trip_start_date = pd.to_datetime('2017-07-23')\n",
    "trip_end_date   = pd.to_datetime('2017-08-08')\n",
    "\n",
    "## May write a function later to cacluate one year before\n",
    "\n",
    "one_year_before_start = trip_start_date - timedelta(days=365)\n",
    "one_year_before_end   = trip_end_date   - timedelta(days=365)\n",
    "\n",
    "one_year_before_start = one_year_before_start.strftime(\"%Y-%m-%d\")\n",
    "one_year_before_end   = one_year_before_end.strftime(\"%Y-%m-%d\")\n",
    "\n",
    "#print(calc_temps(one_year_before_start, one_year_before_end))\n",
    "prev_year = calc_temps(one_year_before_start, one_year_before_end)\n",
    "tmin = prev_year[0][0]\n",
    "tavg = prev_year[0][1]\n",
    "tmax = prev_year[0][2]"
   ]
  },
  {
   "cell_type": "code",
   "execution_count": 43,
   "metadata": {},
   "outputs": [
    {
     "data": {
      "image/png": "[encoded data removed]",
      "text/plain": [
       "<Figure size 360x1260 with 1 Axes>"
      ]
     },
     "metadata": {},
     "output_type": "display_data"
    }
   ],
   "source": [
    "# Plot the results from your previous query as a bar chart. \n",
    "# Use \"Trip Avg Temp\" as your Title\n",
    "# Use the average temperature for the y value\n",
    "# Use the peak-to-peak (tmax-tmin) value as the y error bar (yerr)\n",
    "\n",
    "peak_to_peak = tmax - tmin\n",
    "\n",
    "plt.bar(0, tavg, color = 'r', alpha = 0.5, align='center', yerr=peak_to_peak)\n",
    "\n",
    "plt.xlabel( 'Temperature Measurements')\n",
    "plt.ylabel(u'Temperature (\\N{DEGREE SIGN}F)')\n",
    "plt.title (f'Trip Ave Temp \\n{one_year_before_start} through {one_year_before_end}')\n",
    "\n",
    "fig = plt.gcf()\n",
    "fig.set_size_inches(5, 17.5)     # set a suitable size\n",
    "\n",
    "plt.show()\n",
    "\n",
    "fig.savefig(\"./Images/tripave.png\")"
   ]
  },
  {
   "cell_type": "markdown",
   "metadata": {},
   "source": [
    "<div class=\"alert alert-block alert-info\">\n",
    "<b>Observation:</b> \n",
    "The average temperature looks perfect for the vacation\n",
    "</div>"
   ]
  },
  {
   "cell_type": "markdown",
   "metadata": {},
   "source": [
    "## Daily Rainfall Average"
   ]
  },
  {
   "cell_type": "code",
   "execution_count": 44,
   "metadata": {},
   "outputs": [],
   "source": [
    "# This function called `calc_rainfall` will accept start date and end date in the format '%Y-%m-%d' \n",
    "# and return the total amount of rainfall for that range of dates\n",
    "def calc_rainfall(start_date, end_date):\n",
    "    \"\"\"STATION, NAME, LATITUDE, LONGITUDE, ELEVATION, and PRECIPTIATION for a list of rainfall.\n",
    "    \n",
    "    Args:\n",
    "        start_date (string): A date string in the format %Y-%m-%d\n",
    "        end_date (string): A date string in the format %Y-%m-%d\n",
    "        \n",
    "    Returns:\n",
    "        STATION, NAME, LATITUDE, LONGITUDE, ELEVATION, and PRECIPTIATION \n",
    "    \"\"\"\n",
    "    \n",
    "#     \n",
    "    return session.query(Station.station, Station.name, Station.latitude, Station.longitude, Station.elevation,\\\n",
    "         func.sum(Measurement.prcp)).group_by(Station.name).filter(Station.station == Measurement.station)\\\n",
    "        .filter(Measurement.date >= start_date).filter(Measurement.date <= end_date).all()\n",
    "# function usage example\n",
    "#print(calc_temps('2012-02-28', '2012-03-05'))"
   ]
  },
  {
   "cell_type": "code",
   "execution_count": 45,
   "metadata": {},
   "outputs": [
    {
     "data": {
      "text/html": [
       "<div>\n",
       "<style scoped>\n",
       "    .dataframe tbody tr th:only-of-type {\n",
       "        vertical-align: middle;\n",
       "    }\n",
       "\n",
       "    .dataframe tbody tr th {\n",
       "        vertical-align: top;\n",
       "    }\n",
       "\n",
       "    .dataframe thead th {\n",
       "        text-align: right;\n",
       "    }\n",
       "</style>\n",
       "<table border=\"1\" class=\"dataframe\">\n",
       "  <thead>\n",
       "    <tr style=\"text-align: right;\">\n",
       "      <th></th>\n",
       "      <th>Station</th>\n",
       "      <th>Name</th>\n",
       "      <th>Latitute</th>\n",
       "      <th>Longitude</th>\n",
       "      <th>Elevation</th>\n",
       "      <th>Precipitation</th>\n",
       "    </tr>\n",
       "  </thead>\n",
       "  <tbody>\n",
       "    <tr>\n",
       "      <th>4</th>\n",
       "      <td>USC00519281</td>\n",
       "      <td>WAIHEE 837.5, HI US</td>\n",
       "      <td>21.45167</td>\n",
       "      <td>-157.84889</td>\n",
       "      <td>32.9</td>\n",
       "      <td>17.55</td>\n",
       "    </tr>\n",
       "    <tr>\n",
       "      <th>2</th>\n",
       "      <td>USC00516128</td>\n",
       "      <td>MANOA LYON ARBO 785.2, HI US</td>\n",
       "      <td>21.33310</td>\n",
       "      <td>-157.80250</td>\n",
       "      <td>152.4</td>\n",
       "      <td>16.19</td>\n",
       "    </tr>\n",
       "    <tr>\n",
       "      <th>0</th>\n",
       "      <td>USC00513117</td>\n",
       "      <td>KANEOHE 838.1, HI US</td>\n",
       "      <td>21.42340</td>\n",
       "      <td>-157.80150</td>\n",
       "      <td>14.6</td>\n",
       "      <td>11.98</td>\n",
       "    </tr>\n",
       "    <tr>\n",
       "      <th>6</th>\n",
       "      <td>USC00519523</td>\n",
       "      <td>WAIMANALO EXPERIMENTAL FARM, HI US</td>\n",
       "      <td>21.33556</td>\n",
       "      <td>-157.71139</td>\n",
       "      <td>19.5</td>\n",
       "      <td>5.36</td>\n",
       "    </tr>\n",
       "    <tr>\n",
       "      <th>5</th>\n",
       "      <td>USC00519397</td>\n",
       "      <td>WAIKIKI 717.2, HI US</td>\n",
       "      <td>21.27160</td>\n",
       "      <td>-157.81680</td>\n",
       "      <td>3.0</td>\n",
       "      <td>4.98</td>\n",
       "    </tr>\n",
       "    <tr>\n",
       "      <th>1</th>\n",
       "      <td>USC00514830</td>\n",
       "      <td>KUALOA RANCH HEADQUARTERS 886.9, HI US</td>\n",
       "      <td>21.52130</td>\n",
       "      <td>-157.83740</td>\n",
       "      <td>7.0</td>\n",
       "      <td>1.10</td>\n",
       "    </tr>\n",
       "    <tr>\n",
       "      <th>3</th>\n",
       "      <td>USC00517948</td>\n",
       "      <td>PEARL CITY, HI US</td>\n",
       "      <td>21.39340</td>\n",
       "      <td>-157.97510</td>\n",
       "      <td>11.9</td>\n",
       "      <td>0.19</td>\n",
       "    </tr>\n",
       "  </tbody>\n",
       "</table>\n",
       "</div>"
      ],
      "text/plain": [
       "       Station                                    Name  Latitute  Longitude  \\\n",
       "4  USC00519281                     WAIHEE 837.5, HI US  21.45167 -157.84889   \n",
       "2  USC00516128            MANOA LYON ARBO 785.2, HI US  21.33310 -157.80250   \n",
       "0  USC00513117                    KANEOHE 838.1, HI US  21.42340 -157.80150   \n",
       "6  USC00519523      WAIMANALO EXPERIMENTAL FARM, HI US  21.33556 -157.71139   \n",
       "5  USC00519397                    WAIKIKI 717.2, HI US  21.27160 -157.81680   \n",
       "1  USC00514830  KUALOA RANCH HEADQUARTERS 886.9, HI US  21.52130 -157.83740   \n",
       "3  USC00517948                       PEARL CITY, HI US  21.39340 -157.97510   \n",
       "\n",
       "   Elevation  Precipitation  \n",
       "4       32.9          17.55  \n",
       "2      152.4          16.19  \n",
       "0       14.6          11.98  \n",
       "6       19.5           5.36  \n",
       "5        3.0           4.98  \n",
       "1        7.0           1.10  \n",
       "3       11.9           0.19  "
      ]
     },
     "execution_count": 45,
     "metadata": {},
     "output_type": "execute_result"
    }
   ],
   "source": [
    "# Calculate the total amount of rainfall per weather station for your trip dates \n",
    "# using the previous year's matching dates.\n",
    "# Sort this in descending order by precipitation amount a\n",
    "# and list the station, name, latitude, longitude, and elevation\n",
    "\n",
    "\n",
    "#print(calc_rainfall(one_year_before_start, one_year_before_end))\n",
    "rain_results = calc_rainfall(one_year_before_start, one_year_before_end)\n",
    "\n",
    "rainfall_df = pd.DataFrame(rain_results[:], columns=['Station', 'Name', 'Latitute',\\\n",
    "                                                     'Longitude', 'Elevation', 'Precipitation'])\n",
    "\n",
    "#df.groupby('Station').sum()\n",
    "rainfall_df\n",
    "\n",
    "rainfall_df.sort_values(by=['Precipitation'], ascending=False)"
   ]
  },
  {
   "cell_type": "code",
   "execution_count": 46,
   "metadata": {},
   "outputs": [],
   "source": [
    "# Create a query that will calculate the daily normals \n",
    "# (i.e. the averages for tmin, tmax, and tavg for all historic data matching a specific month and day)\n",
    "\n",
    "def daily_normals(date):\n",
    "    \"\"\"Daily Normals.\n",
    "    \n",
    "    Args:\n",
    "        date (str): A date string in the format '%m-%d'\n",
    "        \n",
    "    Returns:\n",
    "        A list of tuples containing the daily normals, tmin, tavg, and tmax\n",
    "    \n",
    "    \"\"\"\n",
    "    \n",
    "    sel = [func.min(Measurement.tobs), func.avg(Measurement.tobs), func.max(Measurement.tobs)]\n",
    "    return session.query(*sel).filter(func.strftime(\"%m-%d\", Measurement.date) == date).all()\n",
    "    \n",
    "#daily_normals(\"01-01\")"
   ]
  },
  {
   "cell_type": "code",
   "execution_count": 52,
   "metadata": {},
   "outputs": [],
   "source": [
    "# calculate the daily normals for your trip\n",
    "# push each tuple of calculations into a list called `normals`\n",
    "\n",
    "# Set the start and end date of the trip\n",
    "trip_start_date = pd.to_datetime('2017-07-23')\n",
    "trip_end_date   = pd.to_datetime('2017-08-06')\n",
    "\n",
    "# Use the start and end date to create a range of dates\n",
    "range_of_dates = pd.date_range(start=trip_start_date, end=trip_end_date)\n",
    "#range_of_dates\n",
    "\n",
    "\n",
    "# Strip off the year and create a list of %m-%d strings\n",
    "dates_list = []\n",
    "full_dates = []\n",
    "for r in range_of_dates:\n",
    "    # print(type(r))\n",
    "    #print(r.strftime(\"%m-%d\"))\n",
    "    dates_list.append(r.strftime(\"%m-%d\"))\n",
    "    full_dates.append(r.strftime(\"%Y-%m-%d\"))\n",
    "\n",
    "# Loop through the list of %m-%d strings and calculate the normals for each date\n",
    "normals = []\n",
    "for day in dates_list:\n",
    "    dn = daily_normals(day)\n",
    "    normals.append([dn[0][0],dn[0][1], dn[0][2]])\n",
    "\n"
   ]
  },
  {
   "cell_type": "code",
   "execution_count": 57,
   "metadata": {},
   "outputs": [],
   "source": [
    "# Load the previous query results into a Pandas DataFrame and add the `trip_dates` range as the `date` index\n",
    "trip_dates = pd.DataFrame(normals, columns = ['Min', 'Ave', 'Max'], index = dates_list)\n",
    "trip_dates.index.name='Date'\n",
    "\n",
    "# Note I am creating an almost duplicate dataframe for plotting reasons. \n",
    "trip_dates_with_year = pd.DataFrame(normals, columns = ['Min', 'Ave', 'Max'], index = full_dates)\n",
    "trip_dates_with_year.index.name='Date'\n"
   ]
  },
  {
   "cell_type": "code",
   "execution_count": 58,
   "metadata": {},
   "outputs": [
    {
     "data": {
      "image/png": "[encoded data removed]",
      "text/plain": [
       "<Figure size 432x288 with 1 Axes>"
      ]
     },
     "metadata": {},
     "output_type": "display_data"
    }
   ],
   "source": [
    "# Plot the daily normals as an area plot with `stacked=False`\n",
    "\n",
    "ax = trip_dates.plot.area(stacked=False, alpha=0.25)\n",
    "ax.xaxis.set_tick_params(rotation=60)\n",
    "\n",
    "ax.set_ylabel(u'Temperature (\\N{DEGREE SIGN}F)')\n",
    "_ = ax.legend(['tmin', 'tavg', 'tmax'])\n"
   ]
  },
  {
   "cell_type": "markdown",
   "metadata": {},
   "source": [
    "<div class=\"alert alert-block alert-info\">\n",
    "<b>Observation:</b> \n",
    "The temperature ranges look ideal for the duration of the vacation\n",
    "</div>"
   ]
  },
  {
   "cell_type": "code",
   "execution_count": 59,
   "metadata": {},
   "outputs": [
    {
     "data": {
      "image/png": "[encoded data removed]",
      "text/plain": [
       "<Figure size 432x288 with 1 Axes>"
      ]
     },
     "metadata": {},
     "output_type": "display_data"
    }
   ],
   "source": [
    "### In the example in the homework the whole year was \n",
    "### plotted on the x-axis so I wanted to ensure\n",
    "### I showed that way also. \n",
    "\n",
    "# Plot the daily normals as an area plot with `stacked=False`\n",
    "\n",
    "ax = trip_dates_with_year.plot.area(stacked=False, alpha=0.25)\n",
    "ax.xaxis.set_tick_params(rotation=60)\n",
    "\n",
    "ax.set_ylabel(u'Temperature (\\N{DEGREE SIGN}F)')\n",
    "_ = ax.legend(['tmin', 'tavg', 'tmax'])\n"
   ]
  },
  {
   "cell_type": "code",
   "execution_count": null,
   "metadata": {},
   "outputs": [],
   "source": [
    "### Close Session\n",
    "session.close()\n",
    "\n",
    "### Release any remaining checked-in connections held by the connection pool \n",
    "### as expect to no longer be connected to that database at all for any future operations\n",
    "### in this notebook.\n",
    "engine.dispose()"
   ]
  },
  {
   "cell_type": "markdown",
   "metadata": {},
   "source": [
    "# End of Notebook "
   ]
  }
 ],
 "metadata": {
  "kernel_info": {
   "name": "python3"
  },
  "kernelspec": {
   "display_name": "Python 3",
   "language": "python",
   "name": "python3"
  },
  "language_info": {
   "codemirror_mode": {
    "name": "ipython",
    "version": 3
   },
   "file_extension": ".py",
   "mimetype": "text/x-python",
   "name": "python",
   "nbconvert_exporter": "python",
   "pygments_lexer": "ipython3",
   "version": "3.7.6"
  },
  "nteract": {
   "version": "0.12.3"
  },
  "varInspector": {
   "cols": {
    "lenName": 16,
    "lenType": 16,
    "lenVar": 40
   },
   "kernels_config": {
    "python": {
     "delete_cmd_postfix": "",
     "delete_cmd_prefix": "del ",
     "library": "var_list.py",
     "varRefreshCmd": "print(var_dic_list())"
    },
    "r": {
     "delete_cmd_postfix": ") ",
     "delete_cmd_prefix": "rm(",
     "library": "var_list.r",
     "varRefreshCmd": "cat(var_dic_list()) "
    }
   },
   "types_to_exclude": [
    "module",
    "function",
    "builtin_function_or_method",
    "instance",
    "_Feature"
   ],
   "window_display": false
  }
 },
 "nbformat": 4,
 "nbformat_minor": 2
}
